{
 "cells": [
  {
   "cell_type": "code",
   "execution_count": 1,
   "id": "native-processing",
   "metadata": {
    "_cell_guid": "b1076dfc-b9ad-4769-8c92-a6c4dae69d19",
    "_uuid": "8f2839f25d086af736a60e9eeb907d3b93b6e0e5",
    "execution": {
     "iopub.execute_input": "2021-11-25T08:16:31.255769Z",
     "iopub.status.busy": "2021-11-25T08:16:31.255171Z",
     "iopub.status.idle": "2021-11-25T08:16:35.548475Z",
     "shell.execute_reply": "2021-11-25T08:16:35.547601Z",
     "shell.execute_reply.started": "2021-11-21T09:09:44.340629Z"
    },
    "papermill": {
     "duration": 4.321814,
     "end_time": "2021-11-25T08:16:35.548619",
     "exception": false,
     "start_time": "2021-11-25T08:16:31.226805",
     "status": "completed"
    },
    "tags": []
   },
   "outputs": [
    {
     "name": "stdout",
     "output_type": "stream",
     "text": [
      "/kaggle/input/youtube-comments-datas/gameTrailer_FarCry6.csv\n",
      "/kaggle/input/youtube-comments-datas/apology_so_sorry.csv\n",
      "/kaggle/input/youtube-comments-datas/gameTrailer_CoD.csv\n",
      "/kaggle/input/youtube-comments-datas/apology_my_overdue_apology.csv\n",
      "/kaggle/input/youtube-comments-datas/apology_my_response.csv\n",
      "/kaggle/input/youtube-comments-datas/musicVideo_GangnamStyle.csv\n",
      "/kaggle/input/youtube-comments-datas/musicVideo_Baby.csv\n",
      "/kaggle/input/youtube-comments-datas/musicVideo_Friday.csv\n",
      "/kaggle/input/youtube-comments-datas/gameTrailer_Pokemon.csv\n",
      "/kaggle/input/jigsaw-toxic-comment-classification-challenge/train.csv.zip\n",
      "/kaggle/input/jigsaw-toxic-comment-classification-challenge/sample_submission.csv.zip\n",
      "/kaggle/input/jigsaw-toxic-comment-classification-challenge/test_labels.csv.zip\n",
      "/kaggle/input/jigsaw-toxic-comment-classification-challenge/test.csv.zip\n",
      "/kaggle/input/youtube-comments/gameTrailer_CoD.csv\n",
      "/kaggle/input/youtube-comment-result/gameTrailer_result.csv\n"
     ]
    }
   ],
   "source": [
    "import numpy as np # linear algebra\n",
    "import pandas as pd # data processing, CSV file I/O (e.g. pd.read_csv)\n",
    "import tensorflow as tf\n",
    "\n",
    "import os\n",
    "for dirname, _, filenames in os.walk('/kaggle/input'):\n",
    "    for filename in filenames:\n",
    "        print(os.path.join(dirname, filename))"
   ]
  },
  {
   "cell_type": "code",
   "execution_count": 2,
   "id": "nominated-specific",
   "metadata": {
    "execution": {
     "iopub.execute_input": "2021-11-25T08:16:35.594099Z",
     "iopub.status.busy": "2021-11-25T08:16:35.593547Z",
     "iopub.status.idle": "2021-11-25T08:16:37.670851Z",
     "shell.execute_reply": "2021-11-25T08:16:37.669924Z",
     "shell.execute_reply.started": "2021-11-21T09:09:49.072345Z"
    },
    "papermill": {
     "duration": 2.101485,
     "end_time": "2021-11-25T08:16:37.671003",
     "exception": false,
     "start_time": "2021-11-25T08:16:35.569518",
     "status": "completed"
    },
    "tags": []
   },
   "outputs": [],
   "source": [
    "import zipfile\n",
    "unzip = zipfile.ZipFile('/kaggle/input/jigsaw-toxic-comment-classification-challenge/train.csv.zip')\n",
    "unzip.extractall()\n",
    "unzip = zipfile.ZipFile('/kaggle/input/jigsaw-toxic-comment-classification-challenge/test.csv.zip')\n",
    "unzip.extractall()"
   ]
  },
  {
   "cell_type": "code",
   "execution_count": 3,
   "id": "unnecessary-promise",
   "metadata": {
    "execution": {
     "iopub.execute_input": "2021-11-25T08:16:37.717332Z",
     "iopub.status.busy": "2021-11-25T08:16:37.716471Z",
     "iopub.status.idle": "2021-11-25T08:16:38.360954Z",
     "shell.execute_reply": "2021-11-25T08:16:38.360411Z",
     "shell.execute_reply.started": "2021-11-21T09:09:51.413026Z"
    },
    "papermill": {
     "duration": 0.66895,
     "end_time": "2021-11-25T08:16:38.361111",
     "exception": false,
     "start_time": "2021-11-25T08:16:37.692161",
     "status": "completed"
    },
    "tags": []
   },
   "outputs": [
    {
     "data": {
      "text/html": [
       "<div>\n",
       "<style scoped>\n",
       "    .dataframe tbody tr th:only-of-type {\n",
       "        vertical-align: middle;\n",
       "    }\n",
       "\n",
       "    .dataframe tbody tr th {\n",
       "        vertical-align: top;\n",
       "    }\n",
       "\n",
       "    .dataframe thead th {\n",
       "        text-align: right;\n",
       "    }\n",
       "</style>\n",
       "<table border=\"1\" class=\"dataframe\">\n",
       "  <thead>\n",
       "    <tr style=\"text-align: right;\">\n",
       "      <th></th>\n",
       "      <th>id</th>\n",
       "      <th>comment_text</th>\n",
       "    </tr>\n",
       "  </thead>\n",
       "  <tbody>\n",
       "    <tr>\n",
       "      <th>0</th>\n",
       "      <td>00001cee341fdb12</td>\n",
       "      <td>Yo bitch Ja Rule is more succesful then you'll...</td>\n",
       "    </tr>\n",
       "    <tr>\n",
       "      <th>1</th>\n",
       "      <td>0000247867823ef7</td>\n",
       "      <td>== From RfC == \\n\\n The title is fine as it is...</td>\n",
       "    </tr>\n",
       "    <tr>\n",
       "      <th>2</th>\n",
       "      <td>00013b17ad220c46</td>\n",
       "      <td>\" \\n\\n == Sources == \\n\\n * Zawe Ashton on Lap...</td>\n",
       "    </tr>\n",
       "    <tr>\n",
       "      <th>3</th>\n",
       "      <td>00017563c3f7919a</td>\n",
       "      <td>:If you have a look back at the source, the in...</td>\n",
       "    </tr>\n",
       "    <tr>\n",
       "      <th>4</th>\n",
       "      <td>00017695ad8997eb</td>\n",
       "      <td>I don't anonymously edit articles at all.</td>\n",
       "    </tr>\n",
       "  </tbody>\n",
       "</table>\n",
       "</div>"
      ],
      "text/plain": [
       "                 id                                       comment_text\n",
       "0  00001cee341fdb12  Yo bitch Ja Rule is more succesful then you'll...\n",
       "1  0000247867823ef7  == From RfC == \\n\\n The title is fine as it is...\n",
       "2  00013b17ad220c46  \" \\n\\n == Sources == \\n\\n * Zawe Ashton on Lap...\n",
       "3  00017563c3f7919a  :If you have a look back at the source, the in...\n",
       "4  00017695ad8997eb          I don't anonymously edit articles at all."
      ]
     },
     "execution_count": 3,
     "metadata": {},
     "output_type": "execute_result"
    }
   ],
   "source": [
    "test_df = pd.read_csv('/kaggle/working/test.csv')\n",
    "test_df.head()"
   ]
  },
  {
   "cell_type": "code",
   "execution_count": 4,
   "id": "exterior-oasis",
   "metadata": {
    "execution": {
     "iopub.execute_input": "2021-11-25T08:16:38.409038Z",
     "iopub.status.busy": "2021-11-25T08:16:38.408126Z",
     "iopub.status.idle": "2021-11-25T08:16:39.141798Z",
     "shell.execute_reply": "2021-11-25T08:16:39.141312Z",
     "shell.execute_reply.started": "2021-11-21T09:09:52.142692Z"
    },
    "papermill": {
     "duration": 0.758476,
     "end_time": "2021-11-25T08:16:39.141920",
     "exception": false,
     "start_time": "2021-11-25T08:16:38.383444",
     "status": "completed"
    },
    "tags": []
   },
   "outputs": [
    {
     "data": {
      "text/html": [
       "<div>\n",
       "<style scoped>\n",
       "    .dataframe tbody tr th:only-of-type {\n",
       "        vertical-align: middle;\n",
       "    }\n",
       "\n",
       "    .dataframe tbody tr th {\n",
       "        vertical-align: top;\n",
       "    }\n",
       "\n",
       "    .dataframe thead th {\n",
       "        text-align: right;\n",
       "    }\n",
       "</style>\n",
       "<table border=\"1\" class=\"dataframe\">\n",
       "  <thead>\n",
       "    <tr style=\"text-align: right;\">\n",
       "      <th></th>\n",
       "      <th>id</th>\n",
       "      <th>comment_text</th>\n",
       "      <th>toxic</th>\n",
       "      <th>severe_toxic</th>\n",
       "      <th>obscene</th>\n",
       "      <th>threat</th>\n",
       "      <th>insult</th>\n",
       "      <th>identity_hate</th>\n",
       "    </tr>\n",
       "  </thead>\n",
       "  <tbody>\n",
       "    <tr>\n",
       "      <th>0</th>\n",
       "      <td>0000997932d777bf</td>\n",
       "      <td>Explanation\\nWhy the edits made under my usern...</td>\n",
       "      <td>0</td>\n",
       "      <td>0</td>\n",
       "      <td>0</td>\n",
       "      <td>0</td>\n",
       "      <td>0</td>\n",
       "      <td>0</td>\n",
       "    </tr>\n",
       "    <tr>\n",
       "      <th>1</th>\n",
       "      <td>000103f0d9cfb60f</td>\n",
       "      <td>D'aww! He matches this background colour I'm s...</td>\n",
       "      <td>0</td>\n",
       "      <td>0</td>\n",
       "      <td>0</td>\n",
       "      <td>0</td>\n",
       "      <td>0</td>\n",
       "      <td>0</td>\n",
       "    </tr>\n",
       "    <tr>\n",
       "      <th>2</th>\n",
       "      <td>000113f07ec002fd</td>\n",
       "      <td>Hey man, I'm really not trying to edit war. It...</td>\n",
       "      <td>0</td>\n",
       "      <td>0</td>\n",
       "      <td>0</td>\n",
       "      <td>0</td>\n",
       "      <td>0</td>\n",
       "      <td>0</td>\n",
       "    </tr>\n",
       "    <tr>\n",
       "      <th>3</th>\n",
       "      <td>0001b41b1c6bb37e</td>\n",
       "      <td>\"\\nMore\\nI can't make any real suggestions on ...</td>\n",
       "      <td>0</td>\n",
       "      <td>0</td>\n",
       "      <td>0</td>\n",
       "      <td>0</td>\n",
       "      <td>0</td>\n",
       "      <td>0</td>\n",
       "    </tr>\n",
       "    <tr>\n",
       "      <th>4</th>\n",
       "      <td>0001d958c54c6e35</td>\n",
       "      <td>You, sir, are my hero. Any chance you remember...</td>\n",
       "      <td>0</td>\n",
       "      <td>0</td>\n",
       "      <td>0</td>\n",
       "      <td>0</td>\n",
       "      <td>0</td>\n",
       "      <td>0</td>\n",
       "    </tr>\n",
       "  </tbody>\n",
       "</table>\n",
       "</div>"
      ],
      "text/plain": [
       "                 id                                       comment_text  toxic  \\\n",
       "0  0000997932d777bf  Explanation\\nWhy the edits made under my usern...      0   \n",
       "1  000103f0d9cfb60f  D'aww! He matches this background colour I'm s...      0   \n",
       "2  000113f07ec002fd  Hey man, I'm really not trying to edit war. It...      0   \n",
       "3  0001b41b1c6bb37e  \"\\nMore\\nI can't make any real suggestions on ...      0   \n",
       "4  0001d958c54c6e35  You, sir, are my hero. Any chance you remember...      0   \n",
       "\n",
       "   severe_toxic  obscene  threat  insult  identity_hate  \n",
       "0             0        0       0       0              0  \n",
       "1             0        0       0       0              0  \n",
       "2             0        0       0       0              0  \n",
       "3             0        0       0       0              0  \n",
       "4             0        0       0       0              0  "
      ]
     },
     "execution_count": 4,
     "metadata": {},
     "output_type": "execute_result"
    }
   ],
   "source": [
    "train_df = pd.read_csv('/kaggle/working/train.csv')\n",
    "train_df.head()"
   ]
  },
  {
   "cell_type": "code",
   "execution_count": 5,
   "id": "fifth-hundred",
   "metadata": {
    "execution": {
     "iopub.execute_input": "2021-11-25T08:16:39.188860Z",
     "iopub.status.busy": "2021-11-25T08:16:39.188337Z",
     "iopub.status.idle": "2021-11-25T08:16:39.193913Z",
     "shell.execute_reply": "2021-11-25T08:16:39.193391Z",
     "shell.execute_reply.started": "2021-11-21T09:09:52.856218Z"
    },
    "papermill": {
     "duration": 0.030506,
     "end_time": "2021-11-25T08:16:39.194044",
     "exception": false,
     "start_time": "2021-11-25T08:16:39.163538",
     "status": "completed"
    },
    "tags": []
   },
   "outputs": [
    {
     "data": {
      "text/plain": [
       "(159571, 8)"
      ]
     },
     "execution_count": 5,
     "metadata": {},
     "output_type": "execute_result"
    }
   ],
   "source": [
    "train_df.shape"
   ]
  },
  {
   "cell_type": "code",
   "execution_count": 6,
   "id": "promotional-coral",
   "metadata": {
    "execution": {
     "iopub.execute_input": "2021-11-25T08:16:39.242911Z",
     "iopub.status.busy": "2021-11-25T08:16:39.242196Z",
     "iopub.status.idle": "2021-11-25T08:16:39.250189Z",
     "shell.execute_reply": "2021-11-25T08:16:39.249755Z",
     "shell.execute_reply.started": "2021-11-21T09:09:52.868221Z"
    },
    "papermill": {
     "duration": 0.034399,
     "end_time": "2021-11-25T08:16:39.250302",
     "exception": false,
     "start_time": "2021-11-25T08:16:39.215903",
     "status": "completed"
    },
    "tags": []
   },
   "outputs": [
    {
     "data": {
      "text/plain": [
       "'\"\\nMore\\nI can\\'t make any real suggestions on improvement - I wondered if the section statistics should be later on, or a subsection of \"\"types of accidents\"\"  -I think the references may need tidying so that they are all in the exact same format ie date format etc. I can do that later on, if no-one else does first - if you have any preferences for formatting style on references or want to do it yourself please let me know.\\n\\nThere appears to be a backlog on articles for review so I guess there may be a delay until a reviewer turns up. It\\'s listed in the relevant form eg Wikipedia:Good_article_nominations#Transport  \"'"
      ]
     },
     "execution_count": 6,
     "metadata": {},
     "output_type": "execute_result"
    }
   ],
   "source": [
    "train_df.loc[3,'comment_text']"
   ]
  },
  {
   "cell_type": "code",
   "execution_count": 7,
   "id": "legendary-march",
   "metadata": {
    "execution": {
     "iopub.execute_input": "2021-11-25T08:16:39.301116Z",
     "iopub.status.busy": "2021-11-25T08:16:39.300307Z",
     "iopub.status.idle": "2021-11-25T08:16:39.308485Z",
     "shell.execute_reply": "2021-11-25T08:16:39.308980Z",
     "shell.execute_reply.started": "2021-11-21T09:09:52.879929Z"
    },
    "papermill": {
     "duration": 0.037049,
     "end_time": "2021-11-25T08:16:39.309164",
     "exception": false,
     "start_time": "2021-11-25T08:16:39.272115",
     "status": "completed"
    },
    "tags": []
   },
   "outputs": [
    {
     "data": {
      "text/plain": [
       "toxic            0.095844\n",
       "severe_toxic     0.009996\n",
       "obscene          0.052948\n",
       "threat           0.002996\n",
       "insult           0.049364\n",
       "identity_hate    0.008805\n",
       "dtype: float64"
      ]
     },
     "execution_count": 7,
     "metadata": {},
     "output_type": "execute_result"
    }
   ],
   "source": [
    "train_df.loc[:,'toxic':].mean(axis = 0)"
   ]
  },
  {
   "cell_type": "code",
   "execution_count": 8,
   "id": "flush-clinic",
   "metadata": {
    "execution": {
     "iopub.execute_input": "2021-11-25T08:16:39.365449Z",
     "iopub.status.busy": "2021-11-25T08:16:39.364795Z",
     "iopub.status.idle": "2021-11-25T08:16:39.435306Z",
     "shell.execute_reply": "2021-11-25T08:16:39.434431Z",
     "shell.execute_reply.started": "2021-11-21T09:09:52.893847Z"
    },
    "papermill": {
     "duration": 0.099378,
     "end_time": "2021-11-25T08:16:39.435444",
     "exception": false,
     "start_time": "2021-11-25T08:16:39.336066",
     "status": "completed"
    },
    "tags": []
   },
   "outputs": [
    {
     "data": {
      "text/plain": [
       "id               143346\n",
       "comment_text     143346\n",
       "toxic            143346\n",
       "severe_toxic     143346\n",
       "obscene          143346\n",
       "threat           143346\n",
       "insult           143346\n",
       "identity_hate    143346\n",
       "dtype: int64"
      ]
     },
     "execution_count": 8,
     "metadata": {},
     "output_type": "execute_result"
    }
   ],
   "source": [
    "train_df[(train_df['toxic']==0) & (train_df['severe_toxic']==0) & (train_df['obscene']==0) & (train_df['threat']==0) & \n",
    "          (train_df['insult']==0) & (train_df['identity_hate']==0)].count()"
   ]
  },
  {
   "cell_type": "code",
   "execution_count": 9,
   "id": "great-crystal",
   "metadata": {
    "execution": {
     "iopub.execute_input": "2021-11-25T08:16:39.490841Z",
     "iopub.status.busy": "2021-11-25T08:16:39.490121Z",
     "iopub.status.idle": "2021-11-25T08:16:39.492829Z",
     "shell.execute_reply": "2021-11-25T08:16:39.492436Z",
     "shell.execute_reply.started": "2021-11-21T09:09:52.969812Z"
    },
    "papermill": {
     "duration": 0.033861,
     "end_time": "2021-11-25T08:16:39.492946",
     "exception": false,
     "start_time": "2021-11-25T08:16:39.459085",
     "status": "completed"
    },
    "tags": []
   },
   "outputs": [],
   "source": [
    "APPO = {\n",
    "\"aren't\" : \"are not\",\n",
    "\"can't\" : \"cannot\",\n",
    "\"couldn't\" : \"could not\",\n",
    "\"didn't\" : \"did not\",\n",
    "\"doesn't\" : \"does not\",\n",
    "\"don't\" : \"do not\",\n",
    "\"hadn't\" : \"had not\",\n",
    "\"hasn't\" : \"has not\",\n",
    "\"haven't\" : \"have not\",\n",
    "\"he'd\" : \"he would\",\n",
    "\"he'll\" : \"he will\",\n",
    "\"he's\" : \"he is\",\n",
    "\"i'd\" : \"I would\",\n",
    "\"i'd\" : \"I had\",\n",
    "\"i'll\" : \"I will\",\n",
    "\"i'm\" : \"I am\",\n",
    "\"isn't\" : \"is not\",\n",
    "\"it's\" : \"it is\",\n",
    "\"it'll\":\"it will\",\n",
    "\"i've\" : \"I have\",\n",
    "\"let's\" : \"let us\",\n",
    "\"mightn't\" : \"might not\",\n",
    "\"mustn't\" : \"must not\",\n",
    "\"shan't\" : \"shall not\",\n",
    "\"she'd\" : \"she would\",\n",
    "\"she'll\" : \"she will\",\n",
    "\"she's\" : \"she is\",\n",
    "\"shouldn't\" : \"should not\",\n",
    "\"that's\" : \"that is\",\n",
    "\"there's\" : \"there is\",\n",
    "\"they'd\" : \"they would\",\n",
    "\"they'll\" : \"they will\",\n",
    "\"they're\" : \"they are\",\n",
    "\"they've\" : \"they have\",\n",
    "\"we'd\" : \"we would\",\n",
    "\"we're\" : \"we are\",\n",
    "\"weren't\" : \"were not\",\n",
    "\"we've\" : \"we have\",\n",
    "\"what'll\" : \"what will\",\n",
    "\"what're\" : \"what are\",\n",
    "\"what's\" : \"what is\",\n",
    "\"what've\" : \"what have\",\n",
    "\"where's\" : \"where is\",\n",
    "\"who'd\" : \"who would\",\n",
    "\"who'll\" : \"who will\",\n",
    "\"who're\" : \"who are\",\n",
    "\"who's\" : \"who is\",\n",
    "\"who've\" : \"who have\",\n",
    "\"won't\" : \"will not\",\n",
    "\"wouldn't\" : \"would not\",\n",
    "\"you'd\" : \"you would\",\n",
    "\"you'll\" : \"you will\",\n",
    "\"you're\" : \"you are\",\n",
    "\"you've\" : \"you have\",\n",
    "\"'re\": \" are\",\n",
    "\"wasn't\": \"was not\",\n",
    "\"we'll\":\" will\",\n",
    "\"didn't\": \"did not\",\n",
    "\"tryin'\":\"trying\"\n",
    "}"
   ]
  },
  {
   "cell_type": "code",
   "execution_count": 10,
   "id": "concrete-clarity",
   "metadata": {
    "execution": {
     "iopub.execute_input": "2021-11-25T08:16:39.541360Z",
     "iopub.status.busy": "2021-11-25T08:16:39.540690Z",
     "iopub.status.idle": "2021-11-25T08:16:39.543674Z",
     "shell.execute_reply": "2021-11-25T08:16:39.543203Z",
     "shell.execute_reply.started": "2021-11-21T09:09:52.982743Z"
    },
    "papermill": {
     "duration": 0.028393,
     "end_time": "2021-11-25T08:16:39.543778",
     "exception": false,
     "start_time": "2021-11-25T08:16:39.515385",
     "status": "completed"
    },
    "tags": []
   },
   "outputs": [],
   "source": [
    "import re"
   ]
  },
  {
   "cell_type": "code",
   "execution_count": 11,
   "id": "human-greensboro",
   "metadata": {
    "execution": {
     "iopub.execute_input": "2021-11-25T08:16:39.594029Z",
     "iopub.status.busy": "2021-11-25T08:16:39.593500Z",
     "iopub.status.idle": "2021-11-25T08:16:39.597421Z",
     "shell.execute_reply": "2021-11-25T08:16:39.596908Z",
     "shell.execute_reply.started": "2021-11-21T09:09:52.992745Z"
    },
    "papermill": {
     "duration": 0.03119,
     "end_time": "2021-11-25T08:16:39.597527",
     "exception": false,
     "start_time": "2021-11-25T08:16:39.566337",
     "status": "completed"
    },
    "tags": []
   },
   "outputs": [],
   "source": [
    "def clean_text(text):\n",
    "    \n",
    "    text = text.lower()\n",
    "    text = re.sub(r'http[s]?://(?:[a-z]|[0-9]|[$-_@.&+]|[!*\\(\\),]|(?:%[0-9a-f][0-9a-f]))+', '', text) # clean url\n",
    "    text = re.sub(r'#(\\w+)', '', text)   # clean hashes\n",
    "    text = re.sub(r'@(\\w+)', '', text)   # clean @\n",
    "    text = re.sub(r'<[^>]+>', '', text)  # clean tags\n",
    "    text = re.sub(r'\\d+', '', text)      # clean digits\n",
    "    text = re.sub(r'[,!@\\'\\\"?\\.$%_&#*+-:;]', '', text)   # clean punctuation\n",
    "    text = [APPO[word] if word in APPO else word for word in text.split()]  #\n",
    "    \n",
    "    return text"
   ]
  },
  {
   "cell_type": "code",
   "execution_count": 12,
   "id": "elementary-taiwan",
   "metadata": {
    "execution": {
     "iopub.execute_input": "2021-11-25T08:16:39.648958Z",
     "iopub.status.busy": "2021-11-25T08:16:39.648209Z",
     "iopub.status.idle": "2021-11-25T08:16:55.354140Z",
     "shell.execute_reply": "2021-11-25T08:16:55.352771Z",
     "shell.execute_reply.started": "2021-11-21T09:09:53.004271Z"
    },
    "papermill": {
     "duration": 15.734284,
     "end_time": "2021-11-25T08:16:55.354286",
     "exception": false,
     "start_time": "2021-11-25T08:16:39.620002",
     "status": "completed"
    },
    "tags": []
   },
   "outputs": [],
   "source": [
    "train_df['comment_text'] = train_df['comment_text'].apply(clean_text)\n",
    "test_df['comment_text'] = test_df['comment_text'].apply(clean_text)"
   ]
  },
  {
   "cell_type": "code",
   "execution_count": 13,
   "id": "diagnostic-employee",
   "metadata": {
    "execution": {
     "iopub.execute_input": "2021-11-25T08:16:55.403657Z",
     "iopub.status.busy": "2021-11-25T08:16:55.402925Z",
     "iopub.status.idle": "2021-11-25T08:16:55.942019Z",
     "shell.execute_reply": "2021-11-25T08:16:55.941537Z",
     "shell.execute_reply.started": "2021-11-21T09:10:08.336398Z"
    },
    "papermill": {
     "duration": 0.56526,
     "end_time": "2021-11-25T08:16:55.942163",
     "exception": false,
     "start_time": "2021-11-25T08:16:55.376903",
     "status": "completed"
    },
    "tags": []
   },
   "outputs": [],
   "source": [
    "from sklearn.model_selection import train_test_split"
   ]
  },
  {
   "cell_type": "code",
   "execution_count": 14,
   "id": "moving-internship",
   "metadata": {
    "execution": {
     "iopub.execute_input": "2021-11-25T08:16:55.993000Z",
     "iopub.status.busy": "2021-11-25T08:16:55.992481Z",
     "iopub.status.idle": "2021-11-25T08:16:56.024806Z",
     "shell.execute_reply": "2021-11-25T08:16:56.024364Z",
     "shell.execute_reply.started": "2021-11-21T09:10:08.911779Z"
    },
    "papermill": {
     "duration": 0.059568,
     "end_time": "2021-11-25T08:16:56.024915",
     "exception": false,
     "start_time": "2021-11-25T08:16:55.965347",
     "status": "completed"
    },
    "tags": []
   },
   "outputs": [],
   "source": [
    "train_set, val_set = train_test_split(train_df, test_size = 0.2, random_state=11)"
   ]
  },
  {
   "cell_type": "code",
   "execution_count": 15,
   "id": "healthy-place",
   "metadata": {
    "execution": {
     "iopub.execute_input": "2021-11-25T08:16:56.073961Z",
     "iopub.status.busy": "2021-11-25T08:16:56.073333Z",
     "iopub.status.idle": "2021-11-25T08:16:56.076175Z",
     "shell.execute_reply": "2021-11-25T08:16:56.075657Z",
     "shell.execute_reply.started": "2021-11-21T09:10:08.950151Z"
    },
    "papermill": {
     "duration": 0.028996,
     "end_time": "2021-11-25T08:16:56.076283",
     "exception": false,
     "start_time": "2021-11-25T08:16:56.047287",
     "status": "completed"
    },
    "tags": []
   },
   "outputs": [],
   "source": [
    "from tensorflow.keras.preprocessing.text import Tokenizer"
   ]
  },
  {
   "cell_type": "code",
   "execution_count": 16,
   "id": "mental-advertising",
   "metadata": {
    "execution": {
     "iopub.execute_input": "2021-11-25T08:16:56.153604Z",
     "iopub.status.busy": "2021-11-25T08:16:56.143769Z",
     "iopub.status.idle": "2021-11-25T08:17:04.015559Z",
     "shell.execute_reply": "2021-11-25T08:17:04.014236Z",
     "shell.execute_reply.started": "2021-11-21T09:10:08.957545Z"
    },
    "papermill": {
     "duration": 7.917346,
     "end_time": "2021-11-25T08:17:04.015706",
     "exception": false,
     "start_time": "2021-11-25T08:16:56.098360",
     "status": "completed"
    },
    "tags": []
   },
   "outputs": [],
   "source": [
    "tokenizer = Tokenizer(num_words = 100000, oov_token='<oov>')\n",
    "tokenizer.fit_on_texts(train_df.comment_text)"
   ]
  },
  {
   "cell_type": "code",
   "execution_count": 17,
   "id": "starting-penalty",
   "metadata": {
    "execution": {
     "iopub.execute_input": "2021-11-25T08:17:04.110284Z",
     "iopub.status.busy": "2021-11-25T08:17:04.100073Z",
     "iopub.status.idle": "2021-11-25T08:17:08.033381Z",
     "shell.execute_reply": "2021-11-25T08:17:08.032203Z",
     "shell.execute_reply.started": "2021-11-21T09:10:17.101362Z"
    },
    "papermill": {
     "duration": 3.995053,
     "end_time": "2021-11-25T08:17:08.033545",
     "exception": false,
     "start_time": "2021-11-25T08:17:04.038492",
     "status": "completed"
    },
    "tags": []
   },
   "outputs": [],
   "source": [
    "traning_sequences = tokenizer.texts_to_sequences(train_set.comment_text)"
   ]
  },
  {
   "cell_type": "code",
   "execution_count": 18,
   "id": "scheduled-poetry",
   "metadata": {
    "execution": {
     "iopub.execute_input": "2021-11-25T08:17:09.330861Z",
     "iopub.status.busy": "2021-11-25T08:17:09.324037Z",
     "iopub.status.idle": "2021-11-25T08:17:09.363685Z",
     "shell.execute_reply": "2021-11-25T08:17:09.364130Z",
     "shell.execute_reply.started": "2021-11-21T09:10:21.183398Z"
    },
    "papermill": {
     "duration": 1.307771,
     "end_time": "2021-11-25T08:17:09.364292",
     "exception": false,
     "start_time": "2021-11-25T08:17:08.056521",
     "status": "completed"
    },
    "tags": []
   },
   "outputs": [
    {
     "name": "stderr",
     "output_type": "stream",
     "text": [
      "/opt/conda/lib/python3.7/site-packages/ipykernel_launcher.py:1: VisibleDeprecationWarning: Creating an ndarray from ragged nested sequences (which is a list-or-tuple of lists-or-tuples-or ndarrays with different lengths or shapes) is deprecated. If you meant to do this, you must specify 'dtype=object' when creating the ndarray\n",
      "  \"\"\"Entry point for launching an IPython kernel.\n"
     ]
    }
   ],
   "source": [
    "maxlen = max([len(x) for x in np.array(traning_sequences)])"
   ]
  },
  {
   "cell_type": "code",
   "execution_count": 19,
   "id": "public-chest",
   "metadata": {
    "execution": {
     "iopub.execute_input": "2021-11-25T08:17:09.446170Z",
     "iopub.status.busy": "2021-11-25T08:17:09.444390Z",
     "iopub.status.idle": "2021-11-25T08:17:09.447013Z",
     "shell.execute_reply": "2021-11-25T08:17:09.447693Z",
     "shell.execute_reply.started": "2021-11-21T09:10:22.33277Z"
    },
    "papermill": {
     "duration": 0.045981,
     "end_time": "2021-11-25T08:17:09.447890",
     "exception": false,
     "start_time": "2021-11-25T08:17:09.401909",
     "status": "completed"
    },
    "tags": []
   },
   "outputs": [],
   "source": [
    "from tensorflow.keras.preprocessing.sequence import pad_sequences"
   ]
  },
  {
   "cell_type": "code",
   "execution_count": 20,
   "id": "incorporate-alignment",
   "metadata": {
    "execution": {
     "iopub.execute_input": "2021-11-25T08:17:09.533523Z",
     "iopub.status.busy": "2021-11-25T08:17:09.532755Z",
     "iopub.status.idle": "2021-11-25T08:17:11.940776Z",
     "shell.execute_reply": "2021-11-25T08:17:11.940243Z",
     "shell.execute_reply.started": "2021-11-21T09:10:22.339046Z"
    },
    "papermill": {
     "duration": 2.455521,
     "end_time": "2021-11-25T08:17:11.940924",
     "exception": false,
     "start_time": "2021-11-25T08:17:09.485403",
     "status": "completed"
    },
    "tags": []
   },
   "outputs": [],
   "source": [
    "training_padded = pad_sequences(traning_sequences, maxlen = maxlen,\n",
    "                                padding = 'pre',\n",
    "                                truncating='pre')\n",
    "train_y = np.array(train_set.loc[:,'toxic':])"
   ]
  },
  {
   "cell_type": "code",
   "execution_count": 21,
   "id": "radio-minister",
   "metadata": {
    "execution": {
     "iopub.execute_input": "2021-11-25T08:17:12.049725Z",
     "iopub.status.busy": "2021-11-25T08:17:12.029337Z",
     "iopub.status.idle": "2021-11-25T08:17:14.261981Z",
     "shell.execute_reply": "2021-11-25T08:17:14.261517Z",
     "shell.execute_reply.started": "2021-11-21T09:10:24.937123Z"
    },
    "papermill": {
     "duration": 2.296769,
     "end_time": "2021-11-25T08:17:14.262146",
     "exception": false,
     "start_time": "2021-11-25T08:17:11.965377",
     "status": "completed"
    },
    "tags": []
   },
   "outputs": [],
   "source": [
    "traning_sequences = tokenizer.texts_to_sequences(val_set.comment_text)\n",
    "val_padded = pad_sequences(traning_sequences,maxlen = 1403,\n",
    "                                padding = 'pre',\n",
    "                                truncating='pre')\n",
    "val_y = np.array(val_set.loc[:,'toxic':])"
   ]
  },
  {
   "cell_type": "code",
   "execution_count": 22,
   "id": "level-ireland",
   "metadata": {
    "execution": {
     "iopub.execute_input": "2021-11-25T08:17:14.370604Z",
     "iopub.status.busy": "2021-11-25T08:17:14.350883Z",
     "iopub.status.idle": "2021-11-25T08:17:22.250824Z",
     "shell.execute_reply": "2021-11-25T08:17:22.249755Z",
     "shell.execute_reply.started": "2021-11-21T09:10:27.260122Z"
    },
    "papermill": {
     "duration": 7.965607,
     "end_time": "2021-11-25T08:17:22.251002",
     "exception": false,
     "start_time": "2021-11-25T08:17:14.285395",
     "status": "completed"
    },
    "tags": []
   },
   "outputs": [],
   "source": [
    "traning_sequences = tokenizer.texts_to_sequences(train_df.comment_text)\n",
    "training_padded = pad_sequences(traning_sequences, maxlen = maxlen,\n",
    "                                padding = 'pre',\n",
    "                                truncating='pre')\n",
    "train_y = np.array(train_df.loc[:,'toxic':])"
   ]
  },
  {
   "cell_type": "code",
   "execution_count": 23,
   "id": "homeless-entrepreneur",
   "metadata": {
    "execution": {
     "iopub.execute_input": "2021-11-25T08:17:22.342370Z",
     "iopub.status.busy": "2021-11-25T08:17:22.337247Z",
     "iopub.status.idle": "2021-11-25T08:17:29.873879Z",
     "shell.execute_reply": "2021-11-25T08:17:29.873359Z",
     "shell.execute_reply.started": "2021-11-21T09:10:35.250239Z"
    },
    "papermill": {
     "duration": 7.600105,
     "end_time": "2021-11-25T08:17:29.874030",
     "exception": false,
     "start_time": "2021-11-25T08:17:22.273925",
     "status": "completed"
    },
    "tags": []
   },
   "outputs": [],
   "source": [
    "testing_sequences = tokenizer.texts_to_sequences(test_df.comment_text)\n",
    "test_padded = pad_sequences(testing_sequences, maxlen = maxlen,\n",
    "                                padding = 'pre',\n",
    "                                truncating='pre')\n",
    "\n",
    "\n"
   ]
  },
  {
   "cell_type": "code",
   "execution_count": null,
   "id": "liked-drink",
   "metadata": {
    "papermill": {
     "duration": 0.022563,
     "end_time": "2021-11-25T08:17:29.919955",
     "exception": false,
     "start_time": "2021-11-25T08:17:29.897392",
     "status": "completed"
    },
    "tags": []
   },
   "outputs": [],
   "source": []
  },
  {
   "cell_type": "code",
   "execution_count": 24,
   "id": "cultural-europe",
   "metadata": {
    "execution": {
     "iopub.execute_input": "2021-11-25T08:17:29.974234Z",
     "iopub.status.busy": "2021-11-25T08:17:29.973678Z",
     "iopub.status.idle": "2021-11-25T08:47:07.955165Z",
     "shell.execute_reply": "2021-11-25T08:47:07.954557Z",
     "shell.execute_reply.started": "2021-11-21T09:10:43.078448Z"
    },
    "papermill": {
     "duration": 1778.010678,
     "end_time": "2021-11-25T08:47:07.955313",
     "exception": false,
     "start_time": "2021-11-25T08:17:29.944635",
     "status": "completed"
    },
    "tags": []
   },
   "outputs": [
    {
     "name": "stdout",
     "output_type": "stream",
     "text": [
      "Epoch 1/2\n",
      "798/798 [==============================] - 890s 1s/step - loss: 0.1375 - auc: 0.8528\n",
      "Epoch 2/2\n",
      "798/798 [==============================] - 884s 1s/step - loss: 0.0452 - auc: 0.9836\n"
     ]
    },
    {
     "data": {
      "text/plain": [
       "<tensorflow.python.keras.callbacks.History at 0x7f93373682d0>"
      ]
     },
     "execution_count": 24,
     "metadata": {},
     "output_type": "execute_result"
    }
   ],
   "source": [
    "model = tf.keras.Sequential([tf.keras.layers.Embedding(150000, 300),\n",
    "    tf.keras.layers.Bidirectional(tf.keras.layers.LSTM(128, return_sequences = True)),\n",
    "    tf.keras.layers.Conv1D(filters=128, kernel_size=3, padding='valid', kernel_initializer='glorot_uniform'),\n",
    "    tf.keras.layers.GlobalMaxPooling1D(),\n",
    "    tf.keras.layers.Dense(32, activation='relu'),\n",
    "    tf.keras.layers.Dropout(0.2),\n",
    "    tf.keras.layers.Dense(6, activation='sigmoid')])\n",
    "                             \n",
    "model.compile(loss = 'binary_crossentropy', optimizer = 'adam', metrics = ['AUC'])\n",
    "model.fit(x = training_padded, y = train_y, epochs = 2, batch_size = 200)"
   ]
  },
  {
   "cell_type": "code",
   "execution_count": 25,
   "id": "handled-cooperation",
   "metadata": {
    "execution": {
     "iopub.execute_input": "2021-11-25T08:47:08.864500Z",
     "iopub.status.busy": "2021-11-25T08:47:08.863919Z",
     "iopub.status.idle": "2021-11-25T08:48:17.162933Z",
     "shell.execute_reply": "2021-11-25T08:48:17.163411Z",
     "shell.execute_reply.started": "2021-11-21T09:40:04.532729Z"
    },
    "papermill": {
     "duration": 68.765513,
     "end_time": "2021-11-25T08:48:17.163568",
     "exception": false,
     "start_time": "2021-11-25T08:47:08.398055",
     "status": "completed"
    },
    "tags": []
   },
   "outputs": [
    {
     "name": "stdout",
     "output_type": "stream",
     "text": [
      "----------dataset_Save------------\n",
      "----------joined------------\n",
      "  this video has 3 million dislikes. Remember that you can't escape this,black sheep of cod  \\\n",
      "0                             the best campaing ever                                          \n",
      "1  open vid in incognito if you cant see the disl...                                          \n",
      "2  Here to see the dislikes before they take them...                                          \n",
      "3                  RIP DISLIKE 2005 & 2021 😂😂😂🤣🤣🤣😄😄😄                                          \n",
      "4                            Where the dislikes went                                          \n",
      "\n",
      "      toxic  severe_toxic   obscene        threat    insult  identity_hate  \n",
      "0  0.016114  2.077788e-06  0.001389  5.486824e-05  0.000981       0.000223  \n",
      "1  0.000682  1.236309e-09  0.000026  1.711194e-07  0.000014       0.000002  \n",
      "2  0.602234  3.315710e-03  0.063833  9.468247e-03  0.199946       0.024787  \n",
      "3  0.005367  1.869613e-07  0.000392  8.510292e-06  0.000229       0.000046  \n",
      "4  0.715085  6.546576e-03  0.083984  1.054784e-02  0.331533       0.035696  \n",
      "----------dataset_Save------------\n",
      "----------joined------------\n",
      "  This looks like latin american version of Belarus.     toxic  severe_toxic  \\\n",
      "0     best part of this game seems to be the trailer  0.000498  7.734207e-10   \n",
      "1  This game had one of the best final acts since...  0.000792  4.019181e-09   \n",
      "2                                              guzel  0.035080  1.316974e-05   \n",
      "3  Fantastic trailer that set a forbidding tone. ...  0.020751  6.465642e-07   \n",
      "4  Biblion allows you to save, rate, comment and ...  0.001695  1.739982e-08   \n",
      "\n",
      "    obscene        threat    insult  identity_hate  \n",
      "0  0.000021  1.261953e-07  0.000011       0.000001  \n",
      "1  0.000034  3.658926e-07  0.000022       0.000004  \n",
      "2  0.002562  1.914514e-04  0.003999       0.000812  \n",
      "3  0.000928  2.629119e-05  0.000716       0.000158  \n",
      "4  0.000110  1.594154e-06  0.000067       0.000012  \n",
      "----------dataset_Save------------\n",
      "----------joined------------\n",
      "                         joke of playing it on a n64     toxic  severe_toxic  \\\n",
      "0            I’m so happy they reworked the graphics  0.001675  1.377405e-08   \n",
      "1  Im so happy they overworked the graphics, they...  0.001484  1.374555e-08   \n",
      "2                   be looking like a roblox game fr  0.008037  1.544933e-07   \n",
      "3  So yay for sinnoh but why no johto? hell we're...  0.173805  4.220477e-05   \n",
      "4  Its insane how much different they looked just...  0.012459  5.802473e-07   \n",
      "\n",
      "    obscene        threat    insult  identity_hate  \n",
      "0  0.000092  1.077994e-06  0.000049       0.000008  \n",
      "1  0.000070  9.826576e-07  0.000046       0.000008  \n",
      "2  0.000400  7.389860e-06  0.000292       0.000044  \n",
      "3  0.020045  7.985610e-04  0.012075       0.002009  \n",
      "4  0.000702  1.872382e-05  0.000532       0.000100  \n",
      "----------dataset_Save------------\n",
      "----------joined------------\n",
      "  Man … why did they have to remove the dislikes tho     toxic  severe_toxic  \\\n",
      "0  So glad that i would tell my kids about my chi...  0.004723  5.758356e-08   \n",
      "1                               i love justin bieber  0.001784  1.123697e-08   \n",
      "2                                        See in 2030  0.001789  2.903032e-08   \n",
      "3                        Legend are watching in 2021  0.000914  2.479165e-09   \n",
      "4  Baby baby baby kkkkkkkkkkkkk eu era viciado ni...  0.114664  4.801511e-05   \n",
      "\n",
      "    obscene        threat    insult  identity_hate  \n",
      "0  0.000285  3.746305e-06  0.000143       0.000021  \n",
      "1  0.000093  9.699968e-07  0.000049       0.000007  \n",
      "2  0.000101  1.736054e-06  0.000073       0.000014  \n",
      "3  0.000037  2.998337e-07  0.000022       0.000003  \n",
      "4  0.010163  7.724153e-04  0.009142       0.002327  \n",
      "----------dataset_Save------------\n",
      "----------joined------------\n",
      "  I siriusly felt my stomach turn not even making this shit up I wanted to puke from cringer  \\\n",
      "0                                               Bruh                                           \n",
      "1  I mean it's not that bad!\\nIt was 10yrs ago an...                                           \n",
      "2                          \\we so excited\\\" me huh?\"                                           \n",
      "3                                        It’s Sunday                                           \n",
      "4  Ppl dislike this because others dislike it. Bu...                                           \n",
      "\n",
      "      toxic  severe_toxic   obscene        threat    insult  identity_hate  \n",
      "0  0.046755  1.466355e-05  0.002599  2.090357e-04  0.005418       0.000964  \n",
      "1  0.000966  4.430199e-09  0.000048  4.642904e-07  0.000024       0.000004  \n",
      "2  0.339388  7.957765e-04  0.027527  4.285326e-03  0.057913       0.011074  \n",
      "3  0.004056  1.910042e-07  0.000250  6.979114e-06  0.000225       0.000047  \n",
      "4  0.002022  1.813209e-08  0.000097  1.381768e-06  0.000059       0.000011  \n",
      "----------dataset_Save------------\n",
      "----------joined------------\n",
      "                                                  👍😆     toxic  severe_toxic  \\\n",
      "0                                               Agam  0.035080  1.316974e-05   \n",
      "1                         всымсле 9 лет прошло..что😭  0.454102  8.076396e-03   \n",
      "2                                       Me here 2022  0.005800  3.706504e-07   \n",
      "3                             Bro it’s been 9 years?  0.007239  3.716071e-07   \n",
      "4  When I was young my parents used to put this s...  0.003197  2.105310e-08   \n",
      "\n",
      "    obscene    threat    insult  identity_hate  \n",
      "0  0.002562  0.000191  0.003999       0.000812  \n",
      "1  0.105486  0.020543  0.148636       0.034568  \n",
      "2  0.000356  0.000012  0.000348       0.000072  \n",
      "3  0.000476  0.000013  0.000348       0.000071  \n",
      "4  0.000175  0.000002  0.000087       0.000012  \n",
      "----------dataset_Save------------\n",
      "----------joined------------\n",
      "  This is cool but did you know that the Eiffel Tower can become 15cm taller in the summer due to thermal expansion.  \\\n",
      "0  Fun fact: I used to hold the record for younge...                                                                   \n",
      "1  This is cool but that doesn't change the fact ...                                                                   \n",
      "2  fun fact: there’s more planes in the ocean tha...                                                                   \n",
      "3  I just wanted to know why she was apologizing ...                                                                   \n",
      "4  I dont even know what she’s apologizing for, b...                                                                   \n",
      "\n",
      "      toxic  severe_toxic   obscene        threat    insult  identity_hate  \n",
      "0  0.007986  3.123321e-07  0.000416  1.171879e-05  0.000346   6.969097e-05  \n",
      "1  0.000325  2.860644e-10  0.000011  5.411601e-08  0.000006   6.727020e-07  \n",
      "2  0.004582  7.548542e-08  0.000199  3.875678e-06  0.000166   2.839961e-05  \n",
      "3  0.000331  8.464573e-10  0.000015  1.298596e-07  0.000008   1.368671e-06  \n",
      "4  0.000641  2.213836e-09  0.000027  2.722721e-07  0.000016   2.598445e-06  \n",
      "----------dataset_Save------------\n",
      "----------joined------------\n",
      "  Normal youtubers:Crying, having mental breakdowns, wheezingPewdiepie:I’m just stupid  \\\n",
      "0  It was pubg's fault for adding bridges in the ...                                     \n",
      "1  Obviously fake he didn't say \"I was in a dark ...                                     \n",
      "2        IM SORRY PEWDS, I SHOULDN'T HAVE BEEN THERE                                     \n",
      "3  i love how the people who cant move on from th...                                     \n",
      "4    nah mate, you are forgiven.PewDiePie is my City                                     \n",
      "\n",
      "      toxic  severe_toxic   obscene    threat    insult  identity_hate  \n",
      "0  0.006285  1.753516e-07  0.000342  0.000008  0.000240       0.000043  \n",
      "1  0.156161  1.840889e-05  0.007206  0.000266  0.009017       0.001031  \n",
      "2  0.003317  4.186645e-08  0.000167  0.000003  0.000104       0.000018  \n",
      "3  0.148439  3.389841e-05  0.006782  0.000507  0.010484       0.002243  \n",
      "4  0.067073  3.556439e-06  0.002741  0.000096  0.004278       0.000503  \n",
      "----------dataset_Save------------\n",
      "----------joined------------\n",
      "  Travis Scott’s apology makes this look like a masterpiece     toxic  \\\n",
      "0  How teachers think bullies will be after watch...         0.007972   \n",
      "1  \"I promise never to film corpses without their...         0.002390   \n",
      "2  How your parents expect you to apologize to yo...         0.006361   \n",
      "3  “I want to apologize to the victim,” A bit lat...         0.007558   \n",
      "4  I like how the only caption language that this...         0.003243   \n",
      "\n",
      "   severe_toxic   obscene    threat    insult  identity_hate  \n",
      "0  1.770720e-07  0.000397  0.000009  0.000307       0.000051  \n",
      "1  2.362206e-08  0.000108  0.000002  0.000069       0.000012  \n",
      "2  1.151584e-07  0.000270  0.000005  0.000251       0.000038  \n",
      "3  1.655477e-07  0.000395  0.000008  0.000264       0.000049  \n",
      "4  8.651408e-08  0.000217  0.000005  0.000123       0.000027  \n"
     ]
    }
   ],
   "source": [
    "file_names = ['../input/youtube-comments-datas/gameTrailer_CoD.csv','../input/youtube-comments-datas/gameTrailer_FarCry6.csv', '../input/youtube-comments-datas/gameTrailer_Pokemon.csv'\n",
    "        ,'../input/youtube-comments-datas/musicVideo_Baby.csv','../input/youtube-comments-datas/musicVideo_Friday.csv','../input/youtube-comments-datas/musicVideo_GangnamStyle.csv',\n",
    "        '../input/youtube-comments-datas/apology_my_overdue_apology.csv','../input/youtube-comments-datas/apology_my_response.csv','../input/youtube-comments-datas/apology_so_sorry.csv']\n",
    "file_result_name = ['gameTrailer_CoD','FarCry6','gameTrailer_Pokemon', \n",
    "                    'musicVideo_Baby', 'musicVideo_Friday','musicVideo_Gangnam', \n",
    " 'apology_my_overdue_apology', 'apology_my_response', 'apology_so_sorry'                \n",
    "                   ]\n",
    "for idx, file in enumerate(file_names):\n",
    "\n",
    "    dataset = pd.read_csv(file, usecols = [0])\n",
    "    dataset_save = pd.read_csv(file, usecols = [0])\n",
    "    dataset.iloc[:, 0] = dataset.iloc[:, 0].apply(clean_text)\n",
    "    dataset_sequences = tokenizer.texts_to_sequences(dataset.iloc[:, 0])\n",
    "    dataset_padded = pad_sequences(dataset_sequences, maxlen = maxlen,\n",
    "                                padding = 'pre',\n",
    "                                truncating='pre')\n",
    "    predicted = model.predict(dataset_padded, batch_size = 200)\n",
    "    predicted_result = pd.DataFrame(predicted, columns = ['toxic', 'severe_toxic', 'obscene', 'threat', 'insult', 'identity_hate'])\n",
    "    \n",
    "    print(\"----------dataset_Save------------\")\n",
    "    \n",
    "    \n",
    "    joined = dataset_save.join(predicted_result)\n",
    "    print(\"----------joined------------\")\n",
    "    print(joined.head(5))\n",
    "    \n",
    "    joined.columns = ['comments', 'toxic', 'severe_toxic', 'obscene', 'threat', 'insult', 'identity_hate']\n",
    "    joined.to_csv('result_{}.csv'.format(file_result_name[idx]), index = False)\n",
    "    "
   ]
  },
  {
   "cell_type": "code",
   "execution_count": null,
   "id": "failing-charity",
   "metadata": {
    "papermill": {
     "duration": 0.431524,
     "end_time": "2021-11-25T08:48:18.038298",
     "exception": false,
     "start_time": "2021-11-25T08:48:17.606774",
     "status": "completed"
    },
    "tags": []
   },
   "outputs": [],
   "source": []
  },
  {
   "cell_type": "code",
   "execution_count": null,
   "id": "selective-dakota",
   "metadata": {
    "papermill": {
     "duration": 0.435079,
     "end_time": "2021-11-25T08:48:18.904132",
     "exception": false,
     "start_time": "2021-11-25T08:48:18.469053",
     "status": "completed"
    },
    "tags": []
   },
   "outputs": [],
   "source": []
  },
  {
   "cell_type": "code",
   "execution_count": null,
   "id": "bulgarian-format",
   "metadata": {
    "papermill": {
     "duration": 0.433964,
     "end_time": "2021-11-25T08:48:20.050286",
     "exception": false,
     "start_time": "2021-11-25T08:48:19.616322",
     "status": "completed"
    },
    "tags": []
   },
   "outputs": [],
   "source": []
  },
  {
   "cell_type": "code",
   "execution_count": null,
   "id": "nearby-hostel",
   "metadata": {
    "papermill": {
     "duration": 0.433743,
     "end_time": "2021-11-25T08:48:20.914030",
     "exception": false,
     "start_time": "2021-11-25T08:48:20.480287",
     "status": "completed"
    },
    "tags": []
   },
   "outputs": [],
   "source": []
  },
  {
   "cell_type": "code",
   "execution_count": null,
   "id": "heated-yemen",
   "metadata": {
    "papermill": {
     "duration": 0.431089,
     "end_time": "2021-11-25T08:48:21.778716",
     "exception": false,
     "start_time": "2021-11-25T08:48:21.347627",
     "status": "completed"
    },
    "tags": []
   },
   "outputs": [],
   "source": []
  }
 ],
 "metadata": {
  "kernelspec": {
   "display_name": "Python 3",
   "language": "python",
   "name": "python3"
  },
  "language_info": {
   "codemirror_mode": {
    "name": "ipython",
    "version": 3
   },
   "file_extension": ".py",
   "mimetype": "text/x-python",
   "name": "python",
   "nbconvert_exporter": "python",
   "pygments_lexer": "ipython3",
   "version": "3.7.9"
  },
  "papermill": {
   "default_parameters": {},
   "duration": 1920.63024,
   "end_time": "2021-11-25T08:48:26.702629",
   "environment_variables": {},
   "exception": null,
   "input_path": "__notebook__.ipynb",
   "output_path": "__notebook__.ipynb",
   "parameters": {},
   "start_time": "2021-11-25T08:16:26.072389",
   "version": "2.3.2"
  }
 },
 "nbformat": 4,
 "nbformat_minor": 5
}
